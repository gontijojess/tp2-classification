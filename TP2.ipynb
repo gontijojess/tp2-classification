{
 "cells": [
  {
   "cell_type": "code",
   "execution_count": 30,
   "id": "096efc09",
   "metadata": {},
   "outputs": [],
   "source": [
    "import pandas as pd\n",
    "import numpy as np\n",
    "from sklearn.preprocessing import LabelEncoder\n",
    "from sklearn.model_selection import train_test_split, cross_val_score\n",
    "from sklearn.svm import SVC\n",
    "from sklearn.metrics import confusion_matrix, accuracy_score, precision_score, recall_score, f1_score\n",
    "import matplotlib.pyplot as plt\n",
    "import seaborn as sns"
   ]
  },
  {
   "cell_type": "code",
   "execution_count": 31,
   "id": "ed7dd443",
   "metadata": {},
   "outputs": [
    {
     "name": "stdout",
     "output_type": "stream",
     "text": [
      "1) Carrega dataset e executa transformações\n",
      "\n",
      "Dataset original: (891, 12)\n",
      "Primeiras 5 linhas:\n"
     ]
    },
    {
     "data": {
      "text/html": [
       "<div>\n",
       "<style scoped>\n",
       "    .dataframe tbody tr th:only-of-type {\n",
       "        vertical-align: middle;\n",
       "    }\n",
       "\n",
       "    .dataframe tbody tr th {\n",
       "        vertical-align: top;\n",
       "    }\n",
       "\n",
       "    .dataframe thead th {\n",
       "        text-align: right;\n",
       "    }\n",
       "</style>\n",
       "<table border=\"1\" class=\"dataframe\">\n",
       "  <thead>\n",
       "    <tr style=\"text-align: right;\">\n",
       "      <th></th>\n",
       "      <th>PassengerId</th>\n",
       "      <th>Survived</th>\n",
       "      <th>Pclass</th>\n",
       "      <th>Name</th>\n",
       "      <th>Sex</th>\n",
       "      <th>Age</th>\n",
       "      <th>SibSp</th>\n",
       "      <th>Parch</th>\n",
       "      <th>Ticket</th>\n",
       "      <th>Fare</th>\n",
       "      <th>Cabin</th>\n",
       "      <th>Embarked</th>\n",
       "    </tr>\n",
       "  </thead>\n",
       "  <tbody>\n",
       "    <tr>\n",
       "      <th>0</th>\n",
       "      <td>1</td>\n",
       "      <td>0</td>\n",
       "      <td>3</td>\n",
       "      <td>Braund, Mr. Owen Harris</td>\n",
       "      <td>male</td>\n",
       "      <td>22.0</td>\n",
       "      <td>1</td>\n",
       "      <td>0</td>\n",
       "      <td>A/5 21171</td>\n",
       "      <td>7.2500</td>\n",
       "      <td>NaN</td>\n",
       "      <td>S</td>\n",
       "    </tr>\n",
       "    <tr>\n",
       "      <th>1</th>\n",
       "      <td>2</td>\n",
       "      <td>1</td>\n",
       "      <td>1</td>\n",
       "      <td>Cumings, Mrs. John Bradley (Florence Briggs Th...</td>\n",
       "      <td>female</td>\n",
       "      <td>38.0</td>\n",
       "      <td>1</td>\n",
       "      <td>0</td>\n",
       "      <td>PC 17599</td>\n",
       "      <td>71.2833</td>\n",
       "      <td>C85</td>\n",
       "      <td>C</td>\n",
       "    </tr>\n",
       "    <tr>\n",
       "      <th>2</th>\n",
       "      <td>3</td>\n",
       "      <td>1</td>\n",
       "      <td>3</td>\n",
       "      <td>Heikkinen, Miss. Laina</td>\n",
       "      <td>female</td>\n",
       "      <td>26.0</td>\n",
       "      <td>0</td>\n",
       "      <td>0</td>\n",
       "      <td>STON/O2. 3101282</td>\n",
       "      <td>7.9250</td>\n",
       "      <td>NaN</td>\n",
       "      <td>S</td>\n",
       "    </tr>\n",
       "    <tr>\n",
       "      <th>3</th>\n",
       "      <td>4</td>\n",
       "      <td>1</td>\n",
       "      <td>1</td>\n",
       "      <td>Futrelle, Mrs. Jacques Heath (Lily May Peel)</td>\n",
       "      <td>female</td>\n",
       "      <td>35.0</td>\n",
       "      <td>1</td>\n",
       "      <td>0</td>\n",
       "      <td>113803</td>\n",
       "      <td>53.1000</td>\n",
       "      <td>C123</td>\n",
       "      <td>S</td>\n",
       "    </tr>\n",
       "    <tr>\n",
       "      <th>4</th>\n",
       "      <td>5</td>\n",
       "      <td>0</td>\n",
       "      <td>3</td>\n",
       "      <td>Allen, Mr. William Henry</td>\n",
       "      <td>male</td>\n",
       "      <td>35.0</td>\n",
       "      <td>0</td>\n",
       "      <td>0</td>\n",
       "      <td>373450</td>\n",
       "      <td>8.0500</td>\n",
       "      <td>NaN</td>\n",
       "      <td>S</td>\n",
       "    </tr>\n",
       "  </tbody>\n",
       "</table>\n",
       "</div>"
      ],
      "text/plain": [
       "   PassengerId  Survived  Pclass  \\\n",
       "0            1         0       3   \n",
       "1            2         1       1   \n",
       "2            3         1       3   \n",
       "3            4         1       1   \n",
       "4            5         0       3   \n",
       "\n",
       "                                                Name     Sex   Age  SibSp  \\\n",
       "0                            Braund, Mr. Owen Harris    male  22.0      1   \n",
       "1  Cumings, Mrs. John Bradley (Florence Briggs Th...  female  38.0      1   \n",
       "2                             Heikkinen, Miss. Laina  female  26.0      0   \n",
       "3       Futrelle, Mrs. Jacques Heath (Lily May Peel)  female  35.0      1   \n",
       "4                           Allen, Mr. William Henry    male  35.0      0   \n",
       "\n",
       "   Parch            Ticket     Fare Cabin Embarked  \n",
       "0      0         A/5 21171   7.2500   NaN        S  \n",
       "1      0          PC 17599  71.2833   C85        C  \n",
       "2      0  STON/O2. 3101282   7.9250   NaN        S  \n",
       "3      0            113803  53.1000  C123        S  \n",
       "4      0            373450   8.0500   NaN        S  "
      ]
     },
     "execution_count": 31,
     "metadata": {},
     "output_type": "execute_result"
    }
   ],
   "source": [
    "# QUESTÃO 1\n",
    "print(\"1) Carrega dataset e executa transformações\")\n",
    "\n",
    "# Carregar o dataset titanic_data\n",
    "url = \"https://github.com/cassiusf/datasets/raw/refs/heads/main/titanic_data.csv\"\n",
    "df = pd.read_csv(url)\n",
    "print(f\"\\nDataset original: {df.shape}\")\n",
    "print(f\"Primeiras 5 linhas:\")\n",
    "df.head()"
   ]
  },
  {
   "cell_type": "code",
   "execution_count": 32,
   "id": "66916690",
   "metadata": {},
   "outputs": [
    {
     "name": "stdout",
     "output_type": "stream",
     "text": [
      "Dataset após a remoção de colunas 'PassengerId', 'Name', 'Ticket', 'Cabin': (891, 8)\n",
      "Colunas restantes: ['Survived', 'Pclass', 'Sex', 'Age', 'SibSp', 'Parch', 'Fare', 'Embarked']\n",
      "\n"
     ]
    }
   ],
   "source": [
    "# Elimina as variáveis “PassengerId”, “Name”, “Ticket” e “Cabin”;\n",
    "columns_to_drop = [\"PassengerId\", \"Name\", \"Ticket\", \"Cabin\"]\n",
    "df_clean = df.drop(columns=columns_to_drop)\n",
    "print(f\"Dataset após a remoção de colunas 'PassengerId', 'Name', 'Ticket', 'Cabin': {df_clean.shape}\")\n",
    "print(f\"Colunas restantes: {list(df_clean.columns)}\\n\")"
   ]
  },
  {
   "cell_type": "code",
   "execution_count": 33,
   "id": "13fbb75d",
   "metadata": {},
   "outputs": [
    {
     "name": "stdout",
     "output_type": "stream",
     "text": [
      "Dados ausentes por coluna:\n",
      "Survived      0\n",
      "Pclass        0\n",
      "Sex           0\n",
      "Age         177\n",
      "SibSp         0\n",
      "Parch         0\n",
      "Fare          0\n",
      "Embarked      2\n",
      "dtype: int64\n",
      "\n",
      "Dataset após a remoção de NAs: (712, 8)\n",
      "\n"
     ]
    }
   ],
   "source": [
    "# Elimina observações que contenham dados ausentes (NA)\n",
    "print(\"Dados ausentes por coluna:\")\n",
    "print(df_clean.isnull().sum())\n",
    "df_clean = df_clean.dropna()\n",
    "print(f\"\\nDataset após a remoção de NAs: {df_clean.shape}\\n\")"
   ]
  },
  {
   "cell_type": "code",
   "execution_count": 34,
   "id": "7a138720",
   "metadata": {},
   "outputs": [
    {
     "name": "stdout",
     "output_type": "stream",
     "text": [
      "Mapeamento LabelEncoder:\n",
      "Sex: {'female': np.int64(0), 'male': np.int64(1)}\n",
      "Embarked: {'C': np.int64(0), 'Q': np.int64(1), 'S': np.int64(2)}\n",
      "\n",
      "Dataset final transformado:\n"
     ]
    },
    {
     "data": {
      "text/html": [
       "<div>\n",
       "<style scoped>\n",
       "    .dataframe tbody tr th:only-of-type {\n",
       "        vertical-align: middle;\n",
       "    }\n",
       "\n",
       "    .dataframe tbody tr th {\n",
       "        vertical-align: top;\n",
       "    }\n",
       "\n",
       "    .dataframe thead th {\n",
       "        text-align: right;\n",
       "    }\n",
       "</style>\n",
       "<table border=\"1\" class=\"dataframe\">\n",
       "  <thead>\n",
       "    <tr style=\"text-align: right;\">\n",
       "      <th></th>\n",
       "      <th>Survived</th>\n",
       "      <th>Pclass</th>\n",
       "      <th>Sex</th>\n",
       "      <th>Age</th>\n",
       "      <th>SibSp</th>\n",
       "      <th>Parch</th>\n",
       "      <th>Fare</th>\n",
       "      <th>Embarked</th>\n",
       "    </tr>\n",
       "  </thead>\n",
       "  <tbody>\n",
       "    <tr>\n",
       "      <th>0</th>\n",
       "      <td>0</td>\n",
       "      <td>3</td>\n",
       "      <td>1</td>\n",
       "      <td>22.0</td>\n",
       "      <td>1</td>\n",
       "      <td>0</td>\n",
       "      <td>7.2500</td>\n",
       "      <td>2</td>\n",
       "    </tr>\n",
       "    <tr>\n",
       "      <th>1</th>\n",
       "      <td>1</td>\n",
       "      <td>1</td>\n",
       "      <td>0</td>\n",
       "      <td>38.0</td>\n",
       "      <td>1</td>\n",
       "      <td>0</td>\n",
       "      <td>71.2833</td>\n",
       "      <td>0</td>\n",
       "    </tr>\n",
       "    <tr>\n",
       "      <th>2</th>\n",
       "      <td>1</td>\n",
       "      <td>3</td>\n",
       "      <td>0</td>\n",
       "      <td>26.0</td>\n",
       "      <td>0</td>\n",
       "      <td>0</td>\n",
       "      <td>7.9250</td>\n",
       "      <td>2</td>\n",
       "    </tr>\n",
       "    <tr>\n",
       "      <th>3</th>\n",
       "      <td>1</td>\n",
       "      <td>1</td>\n",
       "      <td>0</td>\n",
       "      <td>35.0</td>\n",
       "      <td>1</td>\n",
       "      <td>0</td>\n",
       "      <td>53.1000</td>\n",
       "      <td>2</td>\n",
       "    </tr>\n",
       "    <tr>\n",
       "      <th>4</th>\n",
       "      <td>0</td>\n",
       "      <td>3</td>\n",
       "      <td>1</td>\n",
       "      <td>35.0</td>\n",
       "      <td>0</td>\n",
       "      <td>0</td>\n",
       "      <td>8.0500</td>\n",
       "      <td>2</td>\n",
       "    </tr>\n",
       "  </tbody>\n",
       "</table>\n",
       "</div>"
      ],
      "text/plain": [
       "   Survived  Pclass  Sex   Age  SibSp  Parch     Fare  Embarked\n",
       "0         0       3    1  22.0      1      0   7.2500         2\n",
       "1         1       1    0  38.0      1      0  71.2833         0\n",
       "2         1       3    0  26.0      0      0   7.9250         2\n",
       "3         1       1    0  35.0      1      0  53.1000         2\n",
       "4         0       3    1  35.0      0      0   8.0500         2"
      ]
     },
     "execution_count": 34,
     "metadata": {},
     "output_type": "execute_result"
    }
   ],
   "source": [
    "# Aplica o LabelEncoder nas variáveis “Embarked” e “Sex”\n",
    "le_sex = LabelEncoder()\n",
    "le_embarked = LabelEncoder()\n",
    "\n",
    "df_clean['Sex'] = le_sex.fit_transform(df_clean['Sex'])\n",
    "df_clean['Embarked'] = le_embarked.fit_transform(df_clean['Embarked'])\n",
    "\n",
    "print(\"Mapeamento LabelEncoder:\")\n",
    "print(f\"Sex: {dict(zip(le_sex.classes_, le_sex.transform(le_sex.classes_)))}\")\n",
    "print(f\"Embarked: {dict(zip(le_embarked.classes_, le_embarked.transform(le_embarked.classes_)))}\")\n",
    "print(f\"\\nDataset final transformado:\")\n",
    "df_clean.head()"
   ]
  },
  {
   "cell_type": "code",
   "execution_count": 35,
   "id": "78d815c8",
   "metadata": {},
   "outputs": [
    {
     "name": "stdout",
     "output_type": "stream",
     "text": [
      "Dataset original (antes das transformações): (891, 12)\n",
      "Dataset atual (pós transformações): (712, 8)\n"
     ]
    }
   ],
   "source": [
    "print(f\"Dataset original (antes das transformações): {df.shape}\")\n",
    "print(f\"Dataset atual (pós transformações): {df_clean.shape}\")"
   ]
  },
  {
   "cell_type": "code",
   "execution_count": 36,
   "id": "cae2c7af",
   "metadata": {},
   "outputs": [
    {
     "name": "stdout",
     "output_type": "stream",
     "text": [
      "Conjunto de treino: (534, 7)\n",
      "Conjunto de teste: (178, 7)\n",
      "\n"
     ]
    }
   ],
   "source": [
    "# Separa o dataframe resultante em Treino-Teste, utilizando a proporção 75-25%\n",
    "X = df_clean.drop('Survived', axis=1)\n",
    "y = df_clean['Survived']\n",
    "\n",
    "X_train, X_test, y_train, y_test = train_test_split(X, y, test_size=0.25, random_state=42, stratify=y)\n",
    "print(f\"Conjunto de treino: {X_train.shape}\")\n",
    "print(f\"Conjunto de teste: {X_test.shape}\\n\")"
   ]
  },
  {
   "cell_type": "code",
   "execution_count": 37,
   "id": "dddbf2cd",
   "metadata": {},
   "outputs": [],
   "source": [
    "# Função auxiliar para avaliar os modelos gerados a seguir \n",
    "# Ela exibe métricas de avaliação como acurácia, recall, precision, F1-score,\n",
    "# Além da matrix de confusão\n",
    "def evaluate_model(y_test, y_pred, model_name):\n",
    "    cm = confusion_matrix(y_test, y_pred)\n",
    "    accuracy = accuracy_score(y_test, y_pred)\n",
    "    precision = precision_score(y_test, y_pred)\n",
    "    recall = recall_score(y_test, y_pred)\n",
    "    f1 = f1_score(y_test, y_pred)\n",
    "\n",
    "    print(\"Métricas:\")\n",
    "    print(f\"Acurácia:  {accuracy:.4f}\")\n",
    "    print(f\"Precision: {precision:.4f}\")\n",
    "    print(f\"Recall:    {recall:.4f}\")\n",
    "    print(f\"F1-Score:  {f1:.4f}\")\n",
    "\n",
    "    plt.figure(figsize=(6, 4))\n",
    "\n",
    "    sns.heatmap(cm, annot=True, fmt='d', cmap='Blues', \n",
    "                xticklabels=['Não Sobreviveu (0)', 'Sobreviveu (1)'],\n",
    "                yticklabels=['Não Sobreviveu (0)', 'Sobreviveu (1)'],\n",
    "                cbar_kws={'label': 'Número de Casos'})\n",
    "\n",
    "    plt.title(f'Matriz de Confusão - {model_name}', fontsize=16, pad=20)\n",
    "    plt.xlabel('Predição do Modelo', fontsize=12)\n",
    "    plt.ylabel('Valores Reais', fontsize=12)\n",
    "\n",
    "    plt.tight_layout()\n",
    "    plt.show()\n",
    "    \n",
    "    return {\n",
    "        'model': model_name,\n",
    "        'confusion_matrix': cm,\n",
    "        'accuracy': accuracy,\n",
    "        'precision': precision,\n",
    "        'recall': recall,\n",
    "        'f1_score': f1\n",
    "    }"
   ]
  },
  {
   "cell_type": "code",
   "execution_count": 38,
   "id": "d4fc91ca",
   "metadata": {},
   "outputs": [
    {
     "name": "stdout",
     "output_type": "stream",
     "text": [
      "Aplicando um modelo SVM utilizando um Kernel linear..\n",
      "\n",
      "Melhor Linear: C=100 (Acurácia: 0.7753)\n"
     ]
    }
   ],
   "source": [
    "# Aplica um modelo SVM utilizando um Kernel Linear\n",
    "print(\"Aplicando um modelo SVM utilizando um Kernel linear..\")\n",
    "\n",
    "c_values = [0.1, 1, 10, 100]\n",
    "best_linear_score = 0\n",
    "best_linear_c = 1\n",
    "\n",
    "for c in c_values:\n",
    "    svm = SVC(kernel='linear', C=c, class_weight='balanced', random_state=42)\n",
    "\n",
    "    scores = cross_val_score(svm, X_train, y_train, cv=5)\n",
    "    avg_score = scores.mean()\n",
    "    \n",
    "    if avg_score > best_linear_score:\n",
    "        best_linear_score = avg_score\n",
    "        best_linear_c = c\n",
    "\n",
    "print(f\"\\nMelhor Linear: C={best_linear_c} (Acurácia: {best_linear_score:.4f})\")\n",
    "\n",
    "svm_linear = SVC(kernel='linear', C=best_linear_c, random_state=42, class_weight='balanced')\n",
    "svm_linear.fit(X_train, y_train)\n",
    "y_pred_linear = svm_linear.predict(X_test)"
   ]
  },
  {
   "cell_type": "code",
   "execution_count": 39,
   "id": "866dc22d",
   "metadata": {},
   "outputs": [
    {
     "name": "stdout",
     "output_type": "stream",
     "text": [
      "2) Apresenta a matriz de confusão e métricas resultante do processo de treinamento\n",
      "\n",
      "Modelo SVM com Kernel Linear:\n",
      "Métricas:\n",
      "Acurácia:  0.7865\n",
      "Precision: 0.7500\n",
      "Recall:    0.7083\n",
      "F1-Score:  0.7286\n"
     ]
    },
    {
     "data": {
      "image/png": "[encoded data removed]",
      "text/plain": [
       "<Figure size 600x400 with 2 Axes>"
      ]
     },
     "metadata": {},
     "output_type": "display_data"
    }
   ],
   "source": [
    "# QUESTÃO 2\n",
    "print(\"2) Apresenta a matriz de confusão e métricas resultante do processo de treinamento\")\n",
    "print(\"\\nModelo SVM com Kernel Linear:\")\n",
    "result_linear = evaluate_model(y_test, y_pred_linear, \"SVM - Kernel Linear\")\n",
    "results.append(result_linear)"
   ]
  },
  {
   "cell_type": "code",
   "execution_count": null,
   "id": "72fff0bc",
   "metadata": {},
   "outputs": [
    {
     "name": "stdout",
     "output_type": "stream",
     "text": [
      "3) Executa o mesmo modelo, agora utilizando dois núcleos diferentes, o rbf e o sigmoid.\n",
      "\n",
      "Modelo SVM com Kernel RBF:\n",
      "Melhor RBF: C=100, gamma=scale (Acurácia: 0.7790)\n",
      "\n",
      "Métricas:\n",
      "Acurácia:  0.7416\n",
      "Precision: 0.6585\n",
      "Recall:    0.7500\n",
      "F1-Score:  0.7013\n"
     ]
    },
    {
     "data": {
      "image/png": "[encoded data removed]",
      "text/plain": [
       "<Figure size 600x400 with 2 Axes>"
      ]
     },
     "metadata": {},
     "output_type": "display_data"
    }
   ],
   "source": [
    "# QUESTÃO 3\n",
    "print(\"3) Executa o mesmo modelo, agora utilizando dois núcleos diferentes, o rbf e o sigmoid.\")\n",
    "print(\"\\nModelo SVM com Kernel RBF:\")\n",
    "\n",
    "c_values = [1, 10, 100]\n",
    "gamma_values = ['scale', 0.01, 0.1, 1]\n",
    "best_rbf_score = 0\n",
    "best_rbf_params = {'C': 1, 'gamma': 'scale'}\n",
    "\n",
    "for c in c_values:\n",
    "    for gamma in gamma_values:\n",
    "        svm = SVC(kernel='rbf', C=c, gamma=gamma, class_weight='balanced', random_state=42)\n",
    "        scores = cross_val_score(svm, X_train, y_train, cv=5)\n",
    "        avg_score = scores.mean()\n",
    "        \n",
    "        if avg_score > best_rbf_score:\n",
    "            best_rbf_score = avg_score\n",
    "            best_rbf_params = {'C': c, 'gamma': gamma}\n",
    "\n",
    "print(f\"Melhor RBF: C={best_rbf_params['C']}, gamma={best_rbf_params['gamma']} (Acurácia: {best_rbf_score:.4f})\\n\")\n",
    "\n",
    "svm_rbf = SVC(kernel='rbf', random_state=42, class_weight='balanced', C=best_rbf_params['C'], gamma=best_rbf_params['gamma'])\n",
    "svm_rbf.fit(X_train, y_train)\n",
    "y_pred_rbf = svm_rbf.predict(X_test)\n",
    "\n",
    "result_rbf = evaluate_model(y_test, y_pred_rbf, \"SVM - Kernel RBF\")\n",
    "results.append(result_rbf)"
   ]
  },
  {
   "cell_type": "code",
   "execution_count": 41,
   "id": "bcd2fb5c",
   "metadata": {},
   "outputs": [
    {
     "name": "stdout",
     "output_type": "stream",
     "text": [
      "Modelo SVM com Kernel Sigmoid\n",
      "\n",
      "Melhor Sigmoid: C=0.1, gamma=scale (Acurácia: 0.6909)\n",
      "\n",
      "Métricas:\n",
      "Acurácia:  0.6236\n",
      "Precision: 0.5397\n",
      "Recall:    0.4722\n",
      "F1-Score:  0.5037\n"
     ]
    },
    {
     "data": {
      "image/png": "[encoded data removed]",
      "text/plain": [
       "<Figure size 600x400 with 2 Axes>"
      ]
     },
     "metadata": {},
     "output_type": "display_data"
    }
   ],
   "source": [
    "print(\"Modelo SVM com Kernel Sigmoid\")\n",
    "# Modelo SVM com Kernel Sigmoid\n",
    "\n",
    "c_values = [0.1, 1, 10]\n",
    "gamma_values = ['scale', 0.001, 0.01]\n",
    "best_sigmoid_score = 0\n",
    "best_sigmoid_params = {'C': 1, 'gamma': 'scale'}\n",
    "\n",
    "for c in c_values:\n",
    "    for gamma in gamma_values:\n",
    "        svm = SVC(kernel='sigmoid', C=c, gamma=gamma, class_weight='balanced', random_state=42)\n",
    "        scores = cross_val_score(svm, X_train, y_train, cv=5)\n",
    "        avg_score = scores.mean()\n",
    "        \n",
    "        if avg_score > best_sigmoid_score:\n",
    "            best_sigmoid_score = avg_score\n",
    "            best_sigmoid_params = {'C': c, 'gamma': gamma}\n",
    "\n",
    "print(f\"\\nMelhor Sigmoid: C={best_sigmoid_params['C']}, gamma={best_sigmoid_params['gamma']} (Acurácia: {best_sigmoid_score:.4f})\\n\")\n",
    "\n",
    "svm_sigmoid = SVC(kernel='sigmoid', C=best_sigmoid_params['C'], random_state=42, class_weight='balanced', gamma=best_sigmoid_params['gamma'])\n",
    "svm_sigmoid.fit(X_train, y_train)\n",
    "y_pred_sigmoid = svm_sigmoid.predict(X_test)\n",
    "\n",
    "result_sigmoid = evaluate_model(y_test, y_pred_sigmoid, \"SVM - Kernel Sigmoid\")\n",
    "results.append(result_sigmoid)"
   ]
  }
 ],
 "metadata": {
  "kernelspec": {
   "display_name": "Python (.venv)",
   "language": "python",
   "name": ".venv"
  },
  "language_info": {
   "codemirror_mode": {
    "name": "ipython",
    "version": 3
   },
   "file_extension": ".py",
   "mimetype": "text/x-python",
   "name": "python",
   "nbconvert_exporter": "python",
   "pygments_lexer": "ipython3",
   "version": "3.13.7"
  }
 },
 "nbformat": 4,
 "nbformat_minor": 5
}
