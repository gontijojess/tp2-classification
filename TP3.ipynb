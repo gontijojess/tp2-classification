{
 "cells": [
  {
   "cell_type": "code",
   "execution_count": 32,
   "id": "420b0273",
   "metadata": {},
   "outputs": [],
   "source": [
    "import pandas as pd\n",
    "import numpy as np\n",
    "from sklearn.model_selection import train_test_split\n",
    "from sklearn.ensemble import RandomForestClassifier\n",
    "from sklearn.metrics import accuracy_score, precision_score, recall_score, f1_score, confusion_matrix\n",
    "from xgboost import XGBClassifier\n",
    "import matplotlib.pyplot as plt\n",
    "import seaborn as sns"
   ]
  },
  {
   "cell_type": "code",
   "execution_count": null,
   "id": "170f1aee",
   "metadata": {},
   "outputs": [
    {
     "data": {
      "text/html": [
       "<div>\n",
       "<style scoped>\n",
       "    .dataframe tbody tr th:only-of-type {\n",
       "        vertical-align: middle;\n",
       "    }\n",
       "\n",
       "    .dataframe tbody tr th {\n",
       "        vertical-align: top;\n",
       "    }\n",
       "\n",
       "    .dataframe thead th {\n",
       "        text-align: right;\n",
       "    }\n",
       "</style>\n",
       "<table border=\"1\" class=\"dataframe\">\n",
       "  <thead>\n",
       "    <tr style=\"text-align: right;\">\n",
       "      <th></th>\n",
       "      <th>Channel</th>\n",
       "      <th>Region</th>\n",
       "      <th>Fresh</th>\n",
       "      <th>Milk</th>\n",
       "      <th>Grocery</th>\n",
       "      <th>Frozen</th>\n",
       "      <th>Detergents_Paper</th>\n",
       "      <th>Delicassen</th>\n",
       "    </tr>\n",
       "  </thead>\n",
       "  <tbody>\n",
       "    <tr>\n",
       "      <th>0</th>\n",
       "      <td>2</td>\n",
       "      <td>3</td>\n",
       "      <td>12669</td>\n",
       "      <td>9656</td>\n",
       "      <td>7561</td>\n",
       "      <td>214</td>\n",
       "      <td>2674</td>\n",
       "      <td>1338</td>\n",
       "    </tr>\n",
       "    <tr>\n",
       "      <th>1</th>\n",
       "      <td>2</td>\n",
       "      <td>3</td>\n",
       "      <td>7057</td>\n",
       "      <td>9810</td>\n",
       "      <td>9568</td>\n",
       "      <td>1762</td>\n",
       "      <td>3293</td>\n",
       "      <td>1776</td>\n",
       "    </tr>\n",
       "    <tr>\n",
       "      <th>2</th>\n",
       "      <td>2</td>\n",
       "      <td>3</td>\n",
       "      <td>6353</td>\n",
       "      <td>8808</td>\n",
       "      <td>7684</td>\n",
       "      <td>2405</td>\n",
       "      <td>3516</td>\n",
       "      <td>7844</td>\n",
       "    </tr>\n",
       "    <tr>\n",
       "      <th>3</th>\n",
       "      <td>1</td>\n",
       "      <td>3</td>\n",
       "      <td>13265</td>\n",
       "      <td>1196</td>\n",
       "      <td>4221</td>\n",
       "      <td>6404</td>\n",
       "      <td>507</td>\n",
       "      <td>1788</td>\n",
       "    </tr>\n",
       "    <tr>\n",
       "      <th>4</th>\n",
       "      <td>2</td>\n",
       "      <td>3</td>\n",
       "      <td>22615</td>\n",
       "      <td>5410</td>\n",
       "      <td>7198</td>\n",
       "      <td>3915</td>\n",
       "      <td>1777</td>\n",
       "      <td>5185</td>\n",
       "    </tr>\n",
       "  </tbody>\n",
       "</table>\n",
       "</div>"
      ],
      "text/plain": [
       "   Channel  Region  Fresh  Milk  Grocery  Frozen  Detergents_Paper  Delicassen\n",
       "0        2       3  12669  9656     7561     214              2674        1338\n",
       "1        2       3   7057  9810     9568    1762              3293        1776\n",
       "2        2       3   6353  8808     7684    2405              3516        7844\n",
       "3        1       3  13265  1196     4221    6404               507        1788\n",
       "4        2       3  22615  5410     7198    3915              1777        5185"
      ]
     },
     "execution_count": 7,
     "metadata": {},
     "output_type": "execute_result"
    }
   ],
   "source": [
    "# CARREGAMENTO DE DADOS\n",
    "\n",
    "url = \"http://raw.githubusercontent.com/cassiusf/datasets/main/customers_data.csv\"\n",
    "df = pd.read_csv(url)\n",
    "\n",
    "df.head()"
   ]
  },
  {
   "cell_type": "code",
   "execution_count": null,
   "id": "2be3891a",
   "metadata": {},
   "outputs": [
    {
     "name": "stdout",
     "output_type": "stream",
     "text": [
      "Dados ausentes por coluna:\n",
      "Channel             0\n",
      "Region              0\n",
      "Fresh               0\n",
      "Milk                0\n",
      "Grocery             0\n",
      "Frozen              0\n",
      "Detergents_Paper    0\n",
      "Delicassen          0\n",
      "dtype: int64\n",
      "\n",
      "Observações eliminadas: 0\n",
      "\n",
      "Distribuição da variável alvo recodificada:\n",
      "1 (Horeca): 298\n",
      "0 (Retail): 142\n"
     ]
    }
   ],
   "source": [
    "# TRANFORMAÇÃO DOS DADOS\n",
    "\n",
    "# Avalia se há dados ausentes\n",
    "print(\"Dados ausentes por coluna:\")\n",
    "print(df.isnull().sum())\n",
    "\n",
    "# Elimina as observações com dados ausentes, se existirem\n",
    "len_before_cleaning = len(df)\n",
    "df_clean = df.dropna()\n",
    "len_after_cleaning = len(df_clean)\n",
    "removed_observations = len_before_cleaning - len_after_cleaning\n",
    "print(f\"\\nObservações eliminadas: {removed_observations}\")\n",
    "\n",
    "# Recodifica variável alvo: 1 (Horeca) -> 1, 2 (Retail) -> 0\n",
    "df_clean['Channel'] = df_clean['Channel'].map({1: 1, 2: 0})\n",
    "print(\"\\nDistribuição da variável alvo recodificada:\")\n",
    "print(\"Horeca (1):\", (df_clean['Channel'] == 1).sum())\n",
    "print(\"Retail (0):\", (df_clean['Channel'] == 0).sum())"
   ]
  },
  {
   "cell_type": "code",
   "execution_count": 13,
   "id": "90541fda",
   "metadata": {},
   "outputs": [],
   "source": [
    "# PREPARAÇÃO DE DADOS PARA MODELAGEM\n",
    "\n",
    "# Separa em target (Channel) e features (Outras colunas)\n",
    "X = df_clean.drop(['Channel'], axis=1)\n",
    "y = df_clean['Channel']\n",
    "\n",
    "# Separa o dataframe em Treino-Teste (75-25%)\n",
    "X_train, X_test, y_train, y_test = train_test_split(\n",
    "    X, y, test_size=0.25, random_state=42, stratify=y\n",
    ")"
   ]
  },
  {
   "cell_type": "code",
   "execution_count": null,
   "id": "43406fcf",
   "metadata": {},
   "outputs": [
    {
     "name": "stdout",
     "output_type": "stream",
     "text": [
      "\n",
      "MODELO RANDOM FOREST:\n",
      "\n",
      "Métricas:\n",
      "Acurácia: 0.9091\n",
      "Precision: 0.9333\n",
      "Recall: 0.9333\n",
      "F1-Score: 0.9333\n"
     ]
    },
    {
     "data": {
      "image/png": "[encoded data removed]",
      "text/plain": [
       "<Figure size 500x400 with 2 Axes>"
      ]
     },
     "metadata": {},
     "output_type": "display_data"
    }
   ],
   "source": [
    "# MODELO RANDOM FOREST\n",
    "\n",
    "print(\"MODELO RANDOM FOREST:\")\n",
    "\n",
    "# Treina o Random Forest com opções padrão do classificador\n",
    "rf_model = RandomForestClassifier(random_state=42)\n",
    "rf_model.fit(X_train, y_train)\n",
    "\n",
    "# Realiza as predições\n",
    "y_pred_rf = rf_model.predict(X_test)\n",
    "\n",
    "# Métricas Random Forest\n",
    "rf_accuracy = accuracy_score(y_test, y_pred_rf)\n",
    "rf_precision = precision_score(y_test, y_pred_rf)\n",
    "rf_recall = recall_score(y_test, y_pred_rf)\n",
    "rf_f1 = f1_score(y_test, y_pred_rf)\n",
    "rf_cm = confusion_matrix(y_test, y_pred_rf)\n",
    "\n",
    "print(\"\\nMétricas:\")\n",
    "print(f\"Acurácia: {rf_accuracy:.4f}\")\n",
    "print(f\"Precision: {rf_precision:.4f}\")\n",
    "print(f\"Recall: {rf_recall:.4f}\")\n",
    "print(f\"F1-Score: {rf_f1:.4f}\")\n",
    "\n",
    "plt.figure(figsize=(5, 4))\n",
    "sns.heatmap(rf_cm, annot=True, fmt='d', cmap='Blues', \n",
    "            xticklabels=['Retail (0)', 'Horeca (1)'], \n",
    "            yticklabels=['Retail (0)', 'Horeca (1)'],\n",
    "            cbar_kws={'label': 'Número de Predições'})\n",
    "plt.title('Matriz de Confusão - Random Forest', fontsize=14, fontweight='bold')\n",
    "plt.ylabel('Valor Real', fontsize=12)\n",
    "plt.xlabel('Valor Predito', fontsize=12)\n",
    "plt.tight_layout()\n",
    "plt.show()"
   ]
  },
  {
   "cell_type": "code",
   "execution_count": 33,
   "id": "4f096f50",
   "metadata": {},
   "outputs": [
    {
     "name": "stdout",
     "output_type": "stream",
     "text": [
      "MODELO XGBOOST:\n",
      "\n",
      "Métricas:\n",
      "Acurácia: 0.9000\n",
      "Precision: 0.9211\n",
      "Recall: 0.9333\n",
      "F1-Score: 0.9272\n"
     ]
    },
    {
     "data": {
      "image/png": "[encoded data removed]",
      "text/plain": [
       "<Figure size 500x400 with 2 Axes>"
      ]
     },
     "metadata": {},
     "output_type": "display_data"
    }
   ],
   "source": [
    "# MODELO XGBOOST\n",
    "\n",
    "print(\"MODELO XGBOOST:\")\n",
    "\n",
    "# Treina O XGBoost utilizando configurações padrão do modelo\n",
    "xgb_model = XGBClassifier(random_state=42, eval_metric='logloss')\n",
    "xgb_model.fit(X_train, y_train)\n",
    "\n",
    "# Realiza as predições\n",
    "y_pred_xgb = xgb_model.predict(X_test)\n",
    "\n",
    "# Métricas XGBoost\n",
    "xgb_accuracy = accuracy_score(y_test, y_pred_xgb)\n",
    "xgb_precision = precision_score(y_test, y_pred_xgb)\n",
    "xgb_recall = recall_score(y_test, y_pred_xgb)\n",
    "xgb_f1 = f1_score(y_test, y_pred_xgb)\n",
    "xgb_cm = confusion_matrix(y_test, y_pred_xgb)\n",
    "\n",
    "print(\"\\nMétricas:\")\n",
    "print(f\"Acurácia: {xgb_accuracy:.4f}\")\n",
    "print(f\"Precision: {xgb_precision:.4f}\")\n",
    "print(f\"Recall: {xgb_recall:.4f}\")\n",
    "print(f\"F1-Score: {xgb_f1:.4f}\")\n",
    "\n",
    "plt.figure(figsize=(5, 4))\n",
    "sns.heatmap(xgb_cm, annot=True, fmt='d', cmap='Greens',\n",
    "            xticklabels=['Retail (0)', 'Horeca (1)'], \n",
    "            yticklabels=['Retail (0)', 'Horeca (1)'],\n",
    "            cbar_kws={'label': 'Número de Predições'})\n",
    "plt.title('Matriz de Confusão - XGBoost', fontsize=14, fontweight='bold')\n",
    "plt.ylabel('Valor Real', fontsize=12)\n",
    "plt.xlabel('Valor Predito', fontsize=12)\n",
    "plt.tight_layout()\n",
    "plt.show()"
   ]
  },
  {
   "cell_type": "code",
   "execution_count": 31,
   "id": "b331c903",
   "metadata": {},
   "outputs": [
    {
     "name": "stdout",
     "output_type": "stream",
     "text": [
      "Comparação dos modelos:\n"
     ]
    },
    {
     "data": {
      "text/html": [
       "<div>\n",
       "<style scoped>\n",
       "    .dataframe tbody tr th:only-of-type {\n",
       "        vertical-align: middle;\n",
       "    }\n",
       "\n",
       "    .dataframe tbody tr th {\n",
       "        vertical-align: top;\n",
       "    }\n",
       "\n",
       "    .dataframe thead th {\n",
       "        text-align: right;\n",
       "    }\n",
       "</style>\n",
       "<table border=\"1\" class=\"dataframe\">\n",
       "  <thead>\n",
       "    <tr style=\"text-align: right;\">\n",
       "      <th></th>\n",
       "      <th>Métrica</th>\n",
       "      <th>Random Forest</th>\n",
       "      <th>XGBoost</th>\n",
       "      <th>Diferença (RF - XGB)</th>\n",
       "    </tr>\n",
       "  </thead>\n",
       "  <tbody>\n",
       "    <tr>\n",
       "      <th>0</th>\n",
       "      <td>Acurácia</td>\n",
       "      <td>0.9091</td>\n",
       "      <td>0.9000</td>\n",
       "      <td>0.0091</td>\n",
       "    </tr>\n",
       "    <tr>\n",
       "      <th>1</th>\n",
       "      <td>Precision</td>\n",
       "      <td>0.9333</td>\n",
       "      <td>0.9211</td>\n",
       "      <td>0.0123</td>\n",
       "    </tr>\n",
       "    <tr>\n",
       "      <th>2</th>\n",
       "      <td>Recall</td>\n",
       "      <td>0.9333</td>\n",
       "      <td>0.9333</td>\n",
       "      <td>0.0000</td>\n",
       "    </tr>\n",
       "    <tr>\n",
       "      <th>3</th>\n",
       "      <td>F1-Score</td>\n",
       "      <td>0.9333</td>\n",
       "      <td>0.9272</td>\n",
       "      <td>0.0062</td>\n",
       "    </tr>\n",
       "  </tbody>\n",
       "</table>\n",
       "</div>"
      ],
      "text/plain": [
       "     Métrica  Random Forest  XGBoost  Diferença (RF - XGB)\n",
       "0   Acurácia         0.9091   0.9000                0.0091\n",
       "1  Precision         0.9333   0.9211                0.0123\n",
       "2     Recall         0.9333   0.9333                0.0000\n",
       "3   F1-Score         0.9333   0.9272                0.0062"
      ]
     },
     "execution_count": 31,
     "metadata": {},
     "output_type": "execute_result"
    }
   ],
   "source": [
    "# COMPARAÇÃO DOS MODELOS\n",
    "\n",
    "print(\"Comparação dos modelos:\")\n",
    "\n",
    "comparison_df = pd.DataFrame({\n",
    "    'Métrica': ['Acurácia', 'Precision', 'Recall', 'F1-Score'],\n",
    "    'Random Forest': [rf_accuracy, rf_precision, rf_recall, rf_f1],\n",
    "    'XGBoost': [xgb_accuracy, xgb_precision, xgb_recall, xgb_f1]\n",
    "})\n",
    "\n",
    "comparison_df['Diferença (RF - XGB)'] = comparison_df['Random Forest'] - comparison_df['XGBoost']\n",
    "\n",
    "comparison_df.round(4)"
   ]
  }
 ],
 "metadata": {
  "kernelspec": {
   "display_name": "Python (.venv)",
   "language": "python",
   "name": ".venv"
  },
  "language_info": {
   "codemirror_mode": {
    "name": "ipython",
    "version": 3
   },
   "file_extension": ".py",
   "mimetype": "text/x-python",
   "name": "python",
   "nbconvert_exporter": "python",
   "pygments_lexer": "ipython3",
   "version": "3.13.7"
  }
 },
 "nbformat": 4,
 "nbformat_minor": 5
}
